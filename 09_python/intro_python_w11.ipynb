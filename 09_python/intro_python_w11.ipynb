{
  "cells": [
    {
      "cell_type": "markdown",
      "metadata": {
        "id": "q2eRjQCONuDm"
      },
      "source": [
        "# Introduction to Python\n",
        "\n",
        "[![Open In Colab](https://colab.research.google.com/assets/colab-badge.svg)](https://colab.research.google.com/github/UCL-DSPP-2425/ECON0128-lectures/blob/main/09_python/intro_python.ipynb)"
      ]
    },
    {
      "cell_type": "markdown",
      "metadata": {
        "id": "sjz99kjZAdoA"
      },
      "source": [
        "## Why Python?\n",
        "\n",
        "- Great implementations of machine learning methods\n",
        "  - [scikit-learn](https://scikit-learn.org/stable/): logistic regression, decision trees, clustering algorithms, and much more.\n",
        "  - [PyTorch](https://pytorch.org/), [Keras](https://keras.io), [JAX](https://jax.readthedocs.io/en/latest/notebooks/quickstart.html): building blocks for neural networks\n",
        "  - [HuggingFace](https://huggingface.co/): High-level abstractions to work with modern language models and computer vision models\n",
        "\n",
        "- Versatility\n",
        "- Support\n",
        "  - Large community of active users\n",
        "  - Modern generative language models can create useful fragments of code"
      ]
    },
    {
      "cell_type": "markdown",
      "metadata": {
        "id": "EtUEl1gh3KGn"
      },
      "source": [
        "## Variables and data types\n",
        "\n",
        "- Variables are created using the = sign\n",
        "- Basic data types in Python:\n",
        "  - Strings: ```\"Hi!\"```\n",
        "  - Integers: ```2```\n",
        "  - Floats: ```4.4```\n",
        "  - Booleans: ```True```"
      ]
    },
    {
      "cell_type": "code",
      "execution_count": null,
      "metadata": {
        "id": "oU4Ia1z5NnNV"
      },
      "outputs": [],
      "source": [
        "# defining variables in Python and exploring different data types\n",
        "my_variable = 2"
      ]
    },
    {
      "cell_type": "code",
      "execution_count": null,
      "metadata": {
        "id": "qNlgun-rF_S2"
      },
      "outputs": [],
      "source": [
        "my_string = \"Hi everyone!\"\n",
        "my_float = 2.4\n",
        "my_boolean = True"
      ]
    },
    {
      "cell_type": "code",
      "execution_count": null,
      "metadata": {
        "id": "Tm6HaKJnJBYb"
      },
      "outputs": [],
      "source": [
        "# operations with numbers\n",
        "2 + 2"
      ]
    },
    {
      "cell_type": "code",
      "execution_count": null,
      "metadata": {
        "id": "FJ19Re0IJZPc"
      },
      "outputs": [],
      "source": [
        "2*4"
      ]
    },
    {
      "cell_type": "code",
      "execution_count": null,
      "metadata": {
        "id": "gFKtRnJTJbCM"
      },
      "outputs": [],
      "source": [
        "2/2"
      ]
    },
    {
      "cell_type": "code",
      "execution_count": null,
      "metadata": {
        "id": "I_-RDt7NJchu"
      },
      "outputs": [],
      "source": [
        "2**8"
      ]
    },
    {
      "cell_type": "code",
      "execution_count": null,
      "metadata": {
        "id": "mlMkfJp2JgKO"
      },
      "outputs": [],
      "source": [
        "my_math_operation = (2+2) * 8"
      ]
    },
    {
      "cell_type": "code",
      "execution_count": null,
      "metadata": {
        "id": "C-BqwY7YJmo-"
      },
      "outputs": [],
      "source": [
        "my_math_operation"
      ]
    },
    {
      "cell_type": "code",
      "execution_count": null,
      "metadata": {
        "id": "VT7dDXR0JC36"
      },
      "outputs": [],
      "source": [
        "# operations with strings\n",
        "\"Hi\" + \" \" + \"everyone\" + \"!\""
      ]
    },
    {
      "cell_type": "code",
      "execution_count": null,
      "metadata": {
        "id": "O4W5AwjJKMMs"
      },
      "outputs": [],
      "source": [
        "\"Hi\"/\"everyone\""
      ]
    },
    {
      "cell_type": "code",
      "execution_count": null,
      "metadata": {
        "id": "fJAGpUbBKyZR"
      },
      "outputs": [],
      "source": [
        "False + False + True"
      ]
    },
    {
      "cell_type": "code",
      "execution_count": null,
      "metadata": {
        "id": "XZQygRLpK1wB"
      },
      "outputs": [],
      "source": [
        "True*False"
      ]
    },
    {
      "cell_type": "markdown",
      "metadata": {
        "id": "qcIheVep3KGr"
      },
      "source": [
        "## Lists\n",
        "\n",
        "- Basic object in Python to store multiple values together\n",
        "- Represented by square brackets ```[ ]```\n"
      ]
    },
    {
      "cell_type": "code",
      "execution_count": null,
      "metadata": {
        "id": "_JVzv-eE3eG2"
      },
      "outputs": [],
      "source": [
        "# create an empty list\n",
        "empty_list = []"
      ]
    },
    {
      "cell_type": "code",
      "execution_count": null,
      "metadata": {
        "id": "tQ8CHt-9L1Fi"
      },
      "outputs": [],
      "source": [
        "empty_list"
      ]
    },
    {
      "cell_type": "code",
      "execution_count": null,
      "metadata": {
        "id": "SaHZ277B3KGr"
      },
      "outputs": [],
      "source": [
        "# create lists\n",
        "integer_list = [2,3,4,5,6]"
      ]
    },
    {
      "cell_type": "code",
      "execution_count": null,
      "metadata": {
        "id": "TT64yYaLL_R1"
      },
      "outputs": [],
      "source": [
        "integer_list"
      ]
    },
    {
      "cell_type": "code",
      "execution_count": null,
      "metadata": {
        "id": "z104IvaOMDfz"
      },
      "outputs": [],
      "source": [
        "string_list = [\"john\", \"pedro\", \"juan\", \"nicolas\"]"
      ]
    },
    {
      "cell_type": "code",
      "execution_count": null,
      "metadata": {
        "id": "fykqhzymMLl8"
      },
      "outputs": [],
      "source": [
        "string_list"
      ]
    },
    {
      "cell_type": "code",
      "execution_count": null,
      "metadata": {
        "id": "oSxhMArZMNKk"
      },
      "outputs": [],
      "source": [
        "mixed_list = [2, 4.0, True, \"Hi\"]"
      ]
    },
    {
      "cell_type": "code",
      "execution_count": null,
      "metadata": {
        "id": "rS-xtrPI3KGs"
      },
      "outputs": [],
      "source": [
        "# get the first element of a list\n",
        "mixed_list[3]"
      ]
    },
    {
      "cell_type": "code",
      "execution_count": null,
      "metadata": {
        "id": "9fafOWbHNZnK"
      },
      "outputs": [],
      "source": [
        "mixed_list[-1]"
      ]
    },
    {
      "cell_type": "code",
      "execution_count": null,
      "metadata": {
        "id": "2FTaYKWM4B2N"
      },
      "outputs": [],
      "source": [
        "# change an element within a list\n",
        "mixed_list[0] = 10"
      ]
    },
    {
      "cell_type": "code",
      "execution_count": null,
      "metadata": {
        "id": "n7ETGSwsOo5m"
      },
      "outputs": [],
      "source": [
        "mixed_list[-1] = \"Hello\""
      ]
    },
    {
      "cell_type": "code",
      "execution_count": null,
      "metadata": {
        "id": "dFtK-rYoOvLb"
      },
      "outputs": [],
      "source": [
        "mixed_list"
      ]
    },
    {
      "cell_type": "code",
      "execution_count": null,
      "metadata": {
        "id": "R7VKnsr8PDg-"
      },
      "outputs": [],
      "source": [
        "# add elements to a list\n",
        "mixed_list + [4,6]"
      ]
    },
    {
      "cell_type": "code",
      "execution_count": null,
      "metadata": {
        "id": "d2-bVCWxPxyV"
      },
      "outputs": [],
      "source": [
        "my_new_list = mixed_list + [4,6]\n",
        "my_new_list"
      ]
    },
    {
      "cell_type": "code",
      "execution_count": null,
      "metadata": {
        "id": "vPd5i_0GPi-r"
      },
      "outputs": [],
      "source": [
        "# list of lists\n",
        "my_list_of_lists = [[1,2,3], [\"a\", \"b\", \"c\"], [True, False]]"
      ]
    },
    {
      "cell_type": "code",
      "execution_count": null,
      "metadata": {
        "id": "GmxWub6FQFW3"
      },
      "outputs": [],
      "source": [
        "my_list_of_lists"
      ]
    },
    {
      "cell_type": "markdown",
      "metadata": {
        "id": "KAA8Bjat3VxP"
      },
      "source": [
        "## Dictionaries\n",
        "\n",
        "- Represented by curly brackets ```{}```\n",
        "- Consists of a collection of key-value pairs. Each key-value pair maps the key to its associated value\n"
      ]
    },
    {
      "cell_type": "code",
      "execution_count": null,
      "metadata": {
        "id": "ywtJBE1k5plK"
      },
      "outputs": [],
      "source": [
        "# empty dictionary\n",
        "my_dictionary = {}"
      ]
    },
    {
      "cell_type": "code",
      "execution_count": null,
      "metadata": {
        "id": "D73cF8mhRanl"
      },
      "outputs": [],
      "source": [
        "my_dictionary"
      ]
    },
    {
      "cell_type": "code",
      "execution_count": null,
      "metadata": {
        "id": "F5t-IsHj3KGs"
      },
      "outputs": [],
      "source": [
        "# create a non-empty dictionary (groceries list)\n",
        "my_groceries = {\"bananas\": 10, \"apples\": 1, \"olive oil\": 1}"
      ]
    },
    {
      "cell_type": "code",
      "execution_count": null,
      "metadata": {
        "id": "D4VILEeGUKrD"
      },
      "outputs": [],
      "source": [
        "my_groceries"
      ]
    },
    {
      "cell_type": "code",
      "execution_count": null,
      "metadata": {
        "id": "Se4ZdRvWUopB"
      },
      "outputs": [],
      "source": [
        "# access elements of dictionaries\n",
        "my_groceries[\"bananas\"]"
      ]
    },
    {
      "cell_type": "code",
      "execution_count": null,
      "metadata": {
        "id": "MxZRaih8WF4m"
      },
      "outputs": [],
      "source": [
        "my_groceries[\"apples\"]"
      ]
    },
    {
      "cell_type": "code",
      "execution_count": null,
      "metadata": {
        "id": "dNGtfanGXQKv"
      },
      "outputs": [],
      "source": [
        "# create a dictionary with integers as keys\n",
        "my_numbers = {0: \"zero\", 1: \"one\", 2: \"two\"}"
      ]
    },
    {
      "cell_type": "code",
      "execution_count": null,
      "metadata": {
        "id": "J0KgpnzfYddK"
      },
      "outputs": [],
      "source": [
        "my_numbers"
      ]
    },
    {
      "cell_type": "code",
      "execution_count": null,
      "metadata": {
        "id": "95GLEqigYg3q"
      },
      "outputs": [],
      "source": [
        "my_numbers[2]"
      ]
    },
    {
      "cell_type": "code",
      "execution_count": null,
      "metadata": {
        "id": "I_S9nJlFXbSx"
      },
      "outputs": [],
      "source": [
        "# add new key-value pairs to dictionary\n",
        "my_numbers[10] = \"ten\""
      ]
    },
    {
      "cell_type": "code",
      "execution_count": null,
      "metadata": {
        "id": "xhXI3XrjZNyY"
      },
      "outputs": [],
      "source": [
        "my_numbers"
      ]
    },
    {
      "cell_type": "code",
      "execution_count": null,
      "metadata": {
        "id": "GjzQegP6ZSTR"
      },
      "outputs": [],
      "source": [
        "my_numbers[20] = \"twenty\"\n",
        "my_numbers"
      ]
    },
    {
      "cell_type": "code",
      "execution_count": null,
      "metadata": {
        "id": "fqIYdFMAaDSY"
      },
      "outputs": [],
      "source": [
        "# access all keys\n",
        "my_numbers.keys()"
      ]
    },
    {
      "cell_type": "code",
      "execution_count": null,
      "metadata": {
        "id": "_w0PAvioaC9A"
      },
      "outputs": [],
      "source": [
        "# access all values\n",
        "my_numbers.values()"
      ]
    },
    {
      "cell_type": "markdown",
      "metadata": {
        "id": "mF2YoLdf3KGt"
      },
      "source": [
        "## For loops and list comprehensions"
      ]
    },
    {
      "cell_type": "code",
      "execution_count": null,
      "metadata": {
        "id": "DYyVNMKh_fbl"
      },
      "outputs": [],
      "source": [
        "# loop over elements of a list\n",
        "my_list = [1,2,3,4,5]\n",
        "my_list"
      ]
    },
    {
      "cell_type": "code",
      "execution_count": null,
      "metadata": {
        "id": "addlScsRBVok"
      },
      "outputs": [],
      "source": [
        "for i in my_list:\n",
        "  print(i)"
      ]
    },
    {
      "cell_type": "code",
      "execution_count": null,
      "metadata": {
        "id": "6Pd0QVRtCXOu"
      },
      "outputs": [],
      "source": [
        "for element in my_list:\n",
        "  print(element)"
      ]
    },
    {
      "cell_type": "code",
      "execution_count": null,
      "metadata": {
        "id": "FoUYTJBfCdYO"
      },
      "outputs": [],
      "source": [
        "my_sum = 0\n",
        "for k in my_list:\n",
        "  #my_sum += k\n",
        "  my_sum = my_sum + k"
      ]
    },
    {
      "cell_type": "code",
      "execution_count": null,
      "metadata": {
        "id": "-Mz2B3WtCw0o"
      },
      "outputs": [],
      "source": [
        "my_sum"
      ]
    },
    {
      "cell_type": "code",
      "execution_count": null,
      "metadata": {
        "id": "PoLmOHvE6dLF"
      },
      "outputs": [],
      "source": [
        "# loop over a range\n",
        "for i in range(1, 6):\n",
        "  print(i)"
      ]
    },
    {
      "cell_type": "code",
      "execution_count": null,
      "metadata": {
        "id": "tCconc1R6Us5"
      },
      "outputs": [],
      "source": [
        "# loop over a string\n",
        "my_string = \"Hello!\"\n",
        "for i in my_string:\n",
        "  print(i)"
      ]
    },
    {
      "cell_type": "code",
      "execution_count": null,
      "metadata": {
        "id": "o9V_z7-rEG7f"
      },
      "outputs": [],
      "source": [
        "for k in \"Hello!\":\n",
        "  print(k)"
      ]
    },
    {
      "cell_type": "code",
      "execution_count": null,
      "metadata": {
        "id": "Bn8uxk6AaFR7"
      },
      "outputs": [],
      "source": [
        "# for loop in one line\n",
        "for k in \"Hello!\": print(k)"
      ]
    },
    {
      "cell_type": "code",
      "execution_count": null,
      "metadata": {
        "id": "o8f3_R_Q6b1C"
      },
      "outputs": [],
      "source": [
        "# list comprehension\n",
        "my_list"
      ]
    },
    {
      "cell_type": "code",
      "execution_count": null,
      "metadata": {
        "id": "DqV_81RsFDGV"
      },
      "outputs": [],
      "source": [
        "[i + 2 for i in my_list]"
      ]
    },
    {
      "cell_type": "markdown",
      "metadata": {
        "id": "BBpKY7ONyB_u"
      },
      "source": [
        "## Conditional statements\n",
        "\n",
        "- We can use the ```if``` statement in Python to check if a logical condition is true\n",
        "- Python supports basic logical operations such as:\n",
        "    - Equal: ``` == ```\n",
        "    - Not equal: ``` != ```\n",
        "    - Greater than: ``` > ```\n",
        "    - Smaller than: ``` < ```\n",
        "- After an ```if``` statement we can also use ```elif``` (i.e. else + if) and ```else``` to specify what happens when none of the logical conditions are true"
      ]
    },
    {
      "cell_type": "code",
      "execution_count": null,
      "metadata": {
        "id": "YCuBmlbDyB_v"
      },
      "outputs": [],
      "source": [
        "# basic if statement\n",
        "if 2 > 1:\n",
        "  print(\"Yeeees!\")"
      ]
    },
    {
      "cell_type": "code",
      "execution_count": null,
      "metadata": {
        "id": "zzXFQq6ULtdR"
      },
      "outputs": [],
      "source": [
        "if \"Hello\" == \"Helo\":\n",
        "  print(\"They are the same\")"
      ]
    },
    {
      "cell_type": "code",
      "execution_count": null,
      "metadata": {
        "id": "8osTaACQL2Dj"
      },
      "outputs": [],
      "source": [
        "if \"Hello\" != \"Helo\":\n",
        "  print(\"They are not the same\")"
      ]
    },
    {
      "cell_type": "code",
      "execution_count": null,
      "metadata": {
        "id": "0QGh7SJcMN-d"
      },
      "outputs": [],
      "source": [
        "a = 10\n",
        "b = 20\n",
        "\n",
        "if a < b:\n",
        "  print(\"a is smaller than b\")"
      ]
    },
    {
      "cell_type": "code",
      "execution_count": null,
      "metadata": {
        "id": "80KB5IPkyB_v"
      },
      "outputs": [],
      "source": [
        "# if + else statement\n",
        "if a == b:\n",
        "  print(\"They are equal\")\n",
        "else:\n",
        "  print(\"They are not equal\")"
      ]
    },
    {
      "cell_type": "code",
      "execution_count": null,
      "metadata": {
        "id": "aj7Q6tdCNgSw"
      },
      "outputs": [],
      "source": [
        "if a > b:\n",
        "  print(\"a greater than b\")\n",
        "else:\n",
        "  print(\"a is not greater than b\")"
      ]
    },
    {
      "cell_type": "code",
      "execution_count": null,
      "metadata": {
        "id": "wuw5H0C2yB_v"
      },
      "outputs": [],
      "source": [
        "# if + elif + else statement\n",
        "if a > b:\n",
        "  print(\"a greater than b\")\n",
        "elif a == b:\n",
        "  print(\"a equal to b\")\n",
        "else:\n",
        "  print(\"a not greater and not equal to b\")"
      ]
    },
    {
      "cell_type": "markdown",
      "metadata": {
        "id": "Fk9NXtxXyB_v"
      },
      "source": [
        "## Functions\n",
        "\n",
        "- A function is a re-usable block of code that performs one or multiple operations. Functions usually take inputs and return outputs.\n",
        "- Python has a set of basic pre-built functions. [Here](https://www.w3schools.com/python/python_ref_functions.asp) is a full list but some of the most used are:\n",
        "  - ```print( )```\n",
        "  - ```len( )```\n",
        "  - ```abs( )```, ```max( )```, ```min( )```\n",
        "  - ```range( )``` <br><br>\n",
        "\n",
        "- Additional functions can be brought to Python by importing packages\n",
        "- Functions can also be defined by the user using the ``` def my_function():``` syntax"
      ]
    },
    {
      "cell_type": "code",
      "execution_count": 1,
      "metadata": {
        "colab": {
          "base_uri": "https://localhost:8080/"
        },
        "id": "KvNRE6gFyB_w",
        "outputId": "868b0fa5-fcd6-44d5-d942-db094463ff05"
      },
      "outputs": [
        {
          "output_type": "stream",
          "name": "stdout",
          "text": [
            "Something!\n"
          ]
        }
      ],
      "source": [
        "# example of pre-built functions\n",
        "print(\"Something!\")"
      ]
    },
    {
      "cell_type": "code",
      "execution_count": 2,
      "metadata": {
        "colab": {
          "base_uri": "https://localhost:8080/"
        },
        "id": "ZH8yNx-ZXx0r",
        "outputId": "48f182cd-3e49-41fd-82cb-a84c03dd2553"
      },
      "outputs": [
        {
          "output_type": "execute_result",
          "data": {
            "text/plain": [
              "4"
            ]
          },
          "metadata": {},
          "execution_count": 2
        }
      ],
      "source": [
        "len([1,2,3,4])"
      ]
    },
    {
      "cell_type": "code",
      "execution_count": null,
      "metadata": {
        "id": "leymkjY1X520"
      },
      "outputs": [],
      "source": [
        "len(\"Something!\")"
      ]
    },
    {
      "cell_type": "code",
      "execution_count": null,
      "metadata": {
        "id": "l0xT3n9hYhBb"
      },
      "outputs": [],
      "source": [
        "len()"
      ]
    },
    {
      "cell_type": "code",
      "execution_count": null,
      "metadata": {
        "id": "HNqtV8asYljc"
      },
      "outputs": [],
      "source": [
        "abs(-10)"
      ]
    },
    {
      "cell_type": "code",
      "execution_count": null,
      "metadata": {
        "id": "UrOOfwiMYpcC"
      },
      "outputs": [],
      "source": [
        "max([10,200,5,300])"
      ]
    },
    {
      "cell_type": "code",
      "source": [
        "#how to invoke a function\n",
        "\n",
        "import numpy as np\n",
        "\n",
        "x = np.array([1,2,3,4]) #x isn't a standard variable -> but an object of class numpy array -> functions can be directly executed onto it\n",
        "\n",
        "print(type(x))"
      ],
      "metadata": {
        "id": "T2JHtdQZEfIX",
        "outputId": "7dfb223b-fa28-4ab8-8c3a-83d63b6f8e44",
        "colab": {
          "base_uri": "https://localhost:8080/"
        }
      },
      "execution_count": 3,
      "outputs": [
        {
          "output_type": "stream",
          "name": "stdout",
          "text": [
            "<class 'numpy.ndarray'>\n"
          ]
        }
      ]
    },
    {
      "cell_type": "code",
      "source": [
        "dir(x) #check all functions\n",
        "print(x.max()) #take function max supply it to array x in numpy"
      ],
      "metadata": {
        "id": "8PBgyAifFG2T",
        "outputId": "b2176736-9755-424d-d9c3-20f9c186c136",
        "colab": {
          "base_uri": "https://localhost:8080/"
        }
      },
      "execution_count": 4,
      "outputs": [
        {
          "output_type": "stream",
          "name": "stdout",
          "text": [
            "4\n"
          ]
        }
      ]
    },
    {
      "cell_type": "code",
      "execution_count": null,
      "metadata": {
        "id": "6Z4T7-l3yB_w"
      },
      "outputs": [],
      "source": [
        "# functions from objects\n",
        "my_dictionary = {\"bananas\": 10, \"apples\": 20}\n",
        "my_dictionary"
      ]
    },
    {
      "cell_type": "code",
      "execution_count": null,
      "metadata": {
        "id": "AF2hwLhyZ9DI"
      },
      "outputs": [],
      "source": [
        "my_dictionary.keys()"
      ]
    },
    {
      "cell_type": "code",
      "execution_count": null,
      "metadata": {
        "id": "6dUCgOILaJPn"
      },
      "outputs": [],
      "source": [
        "my_dictionary.values()"
      ]
    },
    {
      "cell_type": "code",
      "execution_count": null,
      "metadata": {
        "id": "dgMKSPiUaVPJ"
      },
      "outputs": [],
      "source": [
        "my_string = \"HELLO!\"\n",
        "my_string"
      ]
    },
    {
      "cell_type": "code",
      "execution_count": null,
      "metadata": {
        "id": "pSqKRJ_4aYJS"
      },
      "outputs": [],
      "source": [
        "my_string.lower()"
      ]
    },
    {
      "cell_type": "code",
      "execution_count": null,
      "metadata": {
        "id": "EysAuDzqaecT"
      },
      "outputs": [],
      "source": [
        "my_string = \"Hello world !\"\n",
        "my_string.split()"
      ]
    },
    {
      "cell_type": "code",
      "execution_count": null,
      "metadata": {
        "id": "dlwmaEeKyB_w"
      },
      "outputs": [],
      "source": [
        "# define my own function\n",
        "def my_function(x):\n",
        "  result = x*2\n",
        "  return result"
      ]
    },
    {
      "cell_type": "code",
      "execution_count": null,
      "metadata": {
        "id": "AnR-EbKKfm5L"
      },
      "outputs": [],
      "source": [
        "my_function(10)"
      ]
    }
  ],
  "metadata": {
    "colab": {
      "provenance": []
    },
    "kernelspec": {
      "display_name": "Python 3",
      "name": "python3"
    },
    "language_info": {
      "codemirror_mode": {
        "name": "ipython",
        "version": 3
      },
      "file_extension": ".py",
      "mimetype": "text/x-python",
      "name": "python",
      "nbconvert_exporter": "python",
      "pygments_lexer": "ipython3",
      "version": "3.10.2"
    }
  },
  "nbformat": 4,
  "nbformat_minor": 0
}