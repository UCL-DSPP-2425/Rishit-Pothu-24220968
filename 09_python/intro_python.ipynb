{
  "cells": [
    {
      "cell_type": "markdown",
      "metadata": {
        "id": "q2eRjQCONuDm"
      },
      "source": [
        "# Introduction to Python\n",
        "\n",
        "[![Open In Colab](https://colab.research.google.com/assets/colab-badge.svg)](https://colab.research.google.com/github/UCL-DSPP-2425/ECON0128-lectures/blob/main/09_python/intro_python.ipynb)"
      ]
    },
    {
      "cell_type": "markdown",
      "metadata": {
        "id": "sjz99kjZAdoA"
      },
      "source": [
        "## Why Python?\n",
        "\n",
        "- Great implementations of machine learning methods\n",
        "  - [scikit-learn](https://scikit-learn.org/stable/): logistic regression, decision trees, clustering algorithms, and much more.\n",
        "  - [PyTorch](https://pytorch.org/), [Keras](https://keras.io), [JAX](https://jax.readthedocs.io/en/latest/notebooks/quickstart.html): building blocks for neural networks\n",
        "  - [HuggingFace](https://huggingface.co/): High-level abstractions to work with modern language models and computer vision models\n",
        "\n",
        "- Versatility\n",
        "- Support\n",
        "  - Large community of active users\n",
        "  - Modern generative language models can create useful fragments of code"
      ]
    },
    {
      "cell_type": "markdown",
      "metadata": {
        "id": "EtUEl1gh3KGn"
      },
      "source": [
        "## Variables and data types\n",
        "\n",
        "- Variables are created using the = sign\n",
        "- Basic data types in Python:\n",
        "  - Strings: ```\"Hi!\"```\n",
        "  - Integers: ```2```\n",
        "  - Floats: ```4.4```\n",
        "  - Booleans: ```True```"
      ]
    },
    {
      "cell_type": "code",
      "execution_count": 2,
      "metadata": {
        "id": "oU4Ia1z5NnNV"
      },
      "outputs": [],
      "source": [
        "# defining variables in Python and exploring different data types\n",
        "my_variable = 2"
      ]
    },
    {
      "cell_type": "code",
      "execution_count": null,
      "metadata": {
        "id": "qNlgun-rF_S2"
      },
      "outputs": [],
      "source": [
        "my_string = \"Hi everyone!\"\n",
        "my_float = 2.4\n",
        "my_boolean = True"
      ]
    },
    {
      "cell_type": "code",
      "execution_count": null,
      "metadata": {
        "id": "Tm6HaKJnJBYb"
      },
      "outputs": [],
      "source": [
        "# operations with numbers\n",
        "2 + 2"
      ]
    },
    {
      "cell_type": "code",
      "execution_count": 1,
      "metadata": {
        "colab": {
          "base_uri": "https://localhost:8080/"
        },
        "id": "FJ19Re0IJZPc",
        "outputId": "9ed6841d-5fe5-48a5-c8c1-197d8a342c3c"
      },
      "outputs": [
        {
          "output_type": "execute_result",
          "data": {
            "text/plain": [
              "8"
            ]
          },
          "metadata": {},
          "execution_count": 1
        }
      ],
      "source": [
        "2*4"
      ]
    },
    {
      "cell_type": "code",
      "execution_count": null,
      "metadata": {
        "id": "gFKtRnJTJbCM"
      },
      "outputs": [],
      "source": [
        "2/2"
      ]
    },
    {
      "cell_type": "code",
      "execution_count": null,
      "metadata": {
        "id": "I_-RDt7NJchu"
      },
      "outputs": [],
      "source": [
        "2**8"
      ]
    },
    {
      "cell_type": "code",
      "execution_count": null,
      "metadata": {
        "id": "mlMkfJp2JgKO"
      },
      "outputs": [],
      "source": [
        "my_math_operation = (2+2) * 8"
      ]
    },
    {
      "cell_type": "code",
      "execution_count": null,
      "metadata": {
        "id": "C-BqwY7YJmo-"
      },
      "outputs": [],
      "source": [
        "my_math_operation"
      ]
    },
    {
      "cell_type": "code",
      "execution_count": null,
      "metadata": {
        "id": "VT7dDXR0JC36"
      },
      "outputs": [],
      "source": [
        "# operations with strings\n",
        "\"Hi\" + \" \" + \"everyone\" + \"!\""
      ]
    },
    {
      "cell_type": "code",
      "execution_count": null,
      "metadata": {
        "id": "O4W5AwjJKMMs"
      },
      "outputs": [],
      "source": [
        "\"Hi\"/\"everyone\""
      ]
    },
    {
      "cell_type": "code",
      "execution_count": null,
      "metadata": {
        "id": "fJAGpUbBKyZR"
      },
      "outputs": [],
      "source": [
        "False + False + True"
      ]
    },
    {
      "cell_type": "code",
      "execution_count": null,
      "metadata": {
        "id": "XZQygRLpK1wB"
      },
      "outputs": [],
      "source": [
        "True*False"
      ]
    },
    {
      "cell_type": "markdown",
      "metadata": {
        "id": "qcIheVep3KGr"
      },
      "source": [
        "## Lists\n",
        "\n",
        "- Basic object in Python to store multiple values together\n",
        "- Represented by square brackets ```[ ]```\n"
      ]
    },
    {
      "cell_type": "code",
      "execution_count": null,
      "metadata": {
        "id": "_JVzv-eE3eG2"
      },
      "outputs": [],
      "source": [
        "# create an empty list\n",
        "empty_list = []"
      ]
    },
    {
      "cell_type": "code",
      "execution_count": null,
      "metadata": {
        "id": "tQ8CHt-9L1Fi"
      },
      "outputs": [],
      "source": [
        "empty_list"
      ]
    },
    {
      "cell_type": "code",
      "execution_count": null,
      "metadata": {
        "id": "SaHZ277B3KGr"
      },
      "outputs": [],
      "source": [
        "# create lists\n",
        "integer_list = [2,3,4,5,6]"
      ]
    },
    {
      "cell_type": "code",
      "execution_count": null,
      "metadata": {
        "id": "TT64yYaLL_R1"
      },
      "outputs": [],
      "source": [
        "integer_list"
      ]
    },
    {
      "cell_type": "code",
      "execution_count": null,
      "metadata": {
        "id": "z104IvaOMDfz"
      },
      "outputs": [],
      "source": [
        "string_list = [\"john\", \"pedro\", \"juan\", \"nicolas\"]"
      ]
    },
    {
      "cell_type": "code",
      "execution_count": null,
      "metadata": {
        "id": "fykqhzymMLl8"
      },
      "outputs": [],
      "source": [
        "string_list"
      ]
    },
    {
      "cell_type": "code",
      "execution_count": 4,
      "metadata": {
        "id": "oSxhMArZMNKk"
      },
      "outputs": [],
      "source": [
        "mixed_list = [2, 4.0, True, \"Hi\"]"
      ]
    },
    {
      "cell_type": "code",
      "execution_count": 6,
      "metadata": {
        "colab": {
          "base_uri": "https://localhost:8080/",
          "height": 35
        },
        "id": "rS-xtrPI3KGs",
        "outputId": "2f797c4f-ac93-48a7-817f-4fbfb480ceca"
      },
      "outputs": [
        {
          "output_type": "execute_result",
          "data": {
            "text/plain": [
              "'Hi'"
            ],
            "application/vnd.google.colaboratory.intrinsic+json": {
              "type": "string"
            }
          },
          "metadata": {},
          "execution_count": 6
        }
      ],
      "source": [
        "# get the first element of a list\n",
        "mixed_list[3]"
      ]
    },
    {
      "cell_type": "code",
      "execution_count": 5,
      "metadata": {
        "colab": {
          "base_uri": "https://localhost:8080/",
          "height": 35
        },
        "id": "9fafOWbHNZnK",
        "outputId": "8f31598c-02fb-4639-be33-8f0ed72ee46e"
      },
      "outputs": [
        {
          "output_type": "execute_result",
          "data": {
            "text/plain": [
              "'Hi'"
            ],
            "application/vnd.google.colaboratory.intrinsic+json": {
              "type": "string"
            }
          },
          "metadata": {},
          "execution_count": 5
        }
      ],
      "source": [
        "mixed_list[-1]"
      ]
    },
    {
      "cell_type": "code",
      "execution_count": null,
      "metadata": {
        "id": "2FTaYKWM4B2N"
      },
      "outputs": [],
      "source": [
        "# change an element within a list\n",
        "mixed_list[0] = 10"
      ]
    },
    {
      "cell_type": "code",
      "execution_count": null,
      "metadata": {
        "id": "n7ETGSwsOo5m"
      },
      "outputs": [],
      "source": [
        "mixed_list[-1] = \"Hello\""
      ]
    },
    {
      "cell_type": "code",
      "execution_count": null,
      "metadata": {
        "id": "dFtK-rYoOvLb"
      },
      "outputs": [],
      "source": [
        "mixed_list"
      ]
    },
    {
      "cell_type": "code",
      "execution_count": null,
      "metadata": {
        "id": "R7VKnsr8PDg-"
      },
      "outputs": [],
      "source": [
        "# add elements to a list\n",
        "mixed_list + [4,6]"
      ]
    },
    {
      "cell_type": "code",
      "execution_count": null,
      "metadata": {
        "id": "d2-bVCWxPxyV"
      },
      "outputs": [],
      "source": [
        "my_new_list = mixed_list + [4,6]\n",
        "my_new_list"
      ]
    },
    {
      "cell_type": "code",
      "execution_count": 7,
      "metadata": {
        "id": "vPd5i_0GPi-r"
      },
      "outputs": [],
      "source": [
        "# list of lists\n",
        "my_list_of_lists = [[1,2,3], [\"a\", \"b\", \"c\"], [True, False]]"
      ]
    },
    {
      "cell_type": "code",
      "execution_count": 8,
      "metadata": {
        "colab": {
          "base_uri": "https://localhost:8080/"
        },
        "id": "GmxWub6FQFW3",
        "outputId": "02a47dc5-4f6f-4841-c6ea-42825086242b"
      },
      "outputs": [
        {
          "output_type": "execute_result",
          "data": {
            "text/plain": [
              "[[1, 2, 3], ['a', 'b', 'c'], [True, False]]"
            ]
          },
          "metadata": {},
          "execution_count": 8
        }
      ],
      "source": [
        "my_list_of_lists"
      ]
    },
    {
      "cell_type": "code",
      "source": [
        "my_list_of_lists[1][-1]"
      ],
      "metadata": {
        "id": "Am4cofL2Lfcc",
        "outputId": "4df335ce-0544-4bb5-978e-cbb9be255aec",
        "colab": {
          "base_uri": "https://localhost:8080/",
          "height": 35
        }
      },
      "execution_count": 13,
      "outputs": [
        {
          "output_type": "execute_result",
          "data": {
            "text/plain": [
              "'c'"
            ],
            "application/vnd.google.colaboratory.intrinsic+json": {
              "type": "string"
            }
          },
          "metadata": {},
          "execution_count": 13
        }
      ]
    },
    {
      "cell_type": "markdown",
      "metadata": {
        "id": "KAA8Bjat3VxP"
      },
      "source": [
        "## Dictionaries\n",
        "\n",
        "- Represented by curly brackets ```{}```\n",
        "- Consists of a collection of key-value pairs. Each key-value pair maps the key to its associated value\n"
      ]
    },
    {
      "cell_type": "code",
      "execution_count": null,
      "metadata": {
        "id": "ywtJBE1k5plK"
      },
      "outputs": [],
      "source": [
        "# empty dictionary\n",
        "my_dictionary = {}"
      ]
    },
    {
      "cell_type": "code",
      "execution_count": null,
      "metadata": {
        "id": "D73cF8mhRanl"
      },
      "outputs": [],
      "source": [
        "my_dictionary"
      ]
    },
    {
      "cell_type": "code",
      "execution_count": 14,
      "metadata": {
        "id": "F5t-IsHj3KGs"
      },
      "outputs": [],
      "source": [
        "# create a non-empty dictionary (groceries list)\n",
        "my_groceries = {\"bananas\": 10, \"apples\": 1, \"olive oil\": 1}"
      ]
    },
    {
      "cell_type": "code",
      "execution_count": 15,
      "metadata": {
        "colab": {
          "base_uri": "https://localhost:8080/"
        },
        "id": "D4VILEeGUKrD",
        "outputId": "e38556d2-7cc3-4360-c12a-355ab531c9dc"
      },
      "outputs": [
        {
          "output_type": "execute_result",
          "data": {
            "text/plain": [
              "{'bananas': 10, 'apples': 1, 'olive oil': 1}"
            ]
          },
          "metadata": {},
          "execution_count": 15
        }
      ],
      "source": [
        "my_groceries"
      ]
    },
    {
      "cell_type": "code",
      "execution_count": 16,
      "metadata": {
        "colab": {
          "base_uri": "https://localhost:8080/"
        },
        "id": "Se4ZdRvWUopB",
        "outputId": "3e5a33b0-eb9c-4a91-92c0-bcfe6780e60a"
      },
      "outputs": [
        {
          "output_type": "execute_result",
          "data": {
            "text/plain": [
              "10"
            ]
          },
          "metadata": {},
          "execution_count": 16
        }
      ],
      "source": [
        "# access elements of dictionaries\n",
        "my_groceries[\"bananas\"]"
      ]
    },
    {
      "cell_type": "code",
      "execution_count": 17,
      "metadata": {
        "colab": {
          "base_uri": "https://localhost:8080/"
        },
        "id": "MxZRaih8WF4m",
        "outputId": "82e2bd22-25a4-4428-b22d-2adc2d14c2f2"
      },
      "outputs": [
        {
          "output_type": "execute_result",
          "data": {
            "text/plain": [
              "1"
            ]
          },
          "metadata": {},
          "execution_count": 17
        }
      ],
      "source": [
        "my_groceries[\"apples\"]"
      ]
    },
    {
      "cell_type": "code",
      "execution_count": 18,
      "metadata": {
        "id": "dNGtfanGXQKv"
      },
      "outputs": [],
      "source": [
        "# create a dictionary with integers as keys\n",
        "my_numbers = {0: \"zero\", 1: \"one\", 2: \"two\"}"
      ]
    },
    {
      "cell_type": "code",
      "execution_count": 20,
      "metadata": {
        "colab": {
          "base_uri": "https://localhost:8080/"
        },
        "id": "J0KgpnzfYddK",
        "outputId": "20a63107-bd9f-4269-a29a-2e6e91db8323"
      },
      "outputs": [
        {
          "output_type": "execute_result",
          "data": {
            "text/plain": [
              "{0: 'zero', 1: 'one', 2: 'two'}"
            ]
          },
          "metadata": {},
          "execution_count": 20
        }
      ],
      "source": [
        "my_numbers"
      ]
    },
    {
      "cell_type": "code",
      "execution_count": 19,
      "metadata": {
        "colab": {
          "base_uri": "https://localhost:8080/",
          "height": 35
        },
        "id": "95GLEqigYg3q",
        "outputId": "511ba322-f5c2-4f27-d36a-91aa3c0398ad"
      },
      "outputs": [
        {
          "output_type": "execute_result",
          "data": {
            "text/plain": [
              "'two'"
            ],
            "application/vnd.google.colaboratory.intrinsic+json": {
              "type": "string"
            }
          },
          "metadata": {},
          "execution_count": 19
        }
      ],
      "source": [
        "my_numbers[2]"
      ]
    },
    {
      "cell_type": "code",
      "execution_count": 21,
      "metadata": {
        "id": "I_S9nJlFXbSx"
      },
      "outputs": [],
      "source": [
        "# add new key-value pairs to dictionary\n",
        "my_numbers[10] = \"ten\""
      ]
    },
    {
      "cell_type": "code",
      "execution_count": 22,
      "metadata": {
        "colab": {
          "base_uri": "https://localhost:8080/"
        },
        "id": "xhXI3XrjZNyY",
        "outputId": "1dba7d31-7ebc-4653-b01d-895f329e2598"
      },
      "outputs": [
        {
          "output_type": "execute_result",
          "data": {
            "text/plain": [
              "{0: 'zero', 1: 'one', 2: 'two', 10: 'ten'}"
            ]
          },
          "metadata": {},
          "execution_count": 22
        }
      ],
      "source": [
        "my_numbers"
      ]
    },
    {
      "cell_type": "code",
      "execution_count": 23,
      "metadata": {
        "colab": {
          "base_uri": "https://localhost:8080/"
        },
        "id": "GjzQegP6ZSTR",
        "outputId": "0052aa33-0518-481f-fc3a-2996e30841f3"
      },
      "outputs": [
        {
          "output_type": "execute_result",
          "data": {
            "text/plain": [
              "{0: 'zero', 1: 'one', 2: 'two', 10: 'ten', 20: 'twenty'}"
            ]
          },
          "metadata": {},
          "execution_count": 23
        }
      ],
      "source": [
        "my_numbers[20] = \"twenty\"\n",
        "my_numbers"
      ]
    },
    {
      "cell_type": "code",
      "execution_count": 24,
      "metadata": {
        "colab": {
          "base_uri": "https://localhost:8080/"
        },
        "id": "fqIYdFMAaDSY",
        "outputId": "c2f685fe-5703-4508-f34a-0258a907f47a"
      },
      "outputs": [
        {
          "output_type": "execute_result",
          "data": {
            "text/plain": [
              "dict_keys([0, 1, 2, 10, 20])"
            ]
          },
          "metadata": {},
          "execution_count": 24
        }
      ],
      "source": [
        "# access all keys\n",
        "my_numbers.keys()"
      ]
    },
    {
      "cell_type": "code",
      "execution_count": 25,
      "metadata": {
        "colab": {
          "base_uri": "https://localhost:8080/"
        },
        "id": "_w0PAvioaC9A",
        "outputId": "35c99117-254a-4c2a-c8a3-a71d1916480f"
      },
      "outputs": [
        {
          "output_type": "execute_result",
          "data": {
            "text/plain": [
              "dict_values(['zero', 'one', 'two', 'ten', 'twenty'])"
            ]
          },
          "metadata": {},
          "execution_count": 25
        }
      ],
      "source": [
        "# access all values\n",
        "my_numbers.values()"
      ]
    },
    {
      "cell_type": "markdown",
      "metadata": {
        "id": "mF2YoLdf3KGt"
      },
      "source": [
        "## For loops and list comprehensions"
      ]
    },
    {
      "cell_type": "code",
      "execution_count": 27,
      "metadata": {
        "colab": {
          "base_uri": "https://localhost:8080/"
        },
        "id": "DYyVNMKh_fbl",
        "outputId": "1243bb6a-859f-4b44-cd02-ff94199a91c8"
      },
      "outputs": [
        {
          "output_type": "execute_result",
          "data": {
            "text/plain": [
              "[1, 2, 3, 4, 5]"
            ]
          },
          "metadata": {},
          "execution_count": 27
        }
      ],
      "source": [
        "# loop over elements of a list\n",
        "my_list = [1,2,3,4,5]\n",
        "my_list"
      ]
    },
    {
      "cell_type": "code",
      "execution_count": 28,
      "metadata": {
        "colab": {
          "base_uri": "https://localhost:8080/"
        },
        "id": "addlScsRBVok",
        "outputId": "dd9d7cd9-52e3-490f-f29a-d304583ebf58"
      },
      "outputs": [
        {
          "output_type": "stream",
          "name": "stdout",
          "text": [
            "1\n",
            "2\n",
            "3\n",
            "4\n",
            "5\n"
          ]
        }
      ],
      "source": [
        "for i in my_list:\n",
        "  print(i)"
      ]
    },
    {
      "cell_type": "code",
      "execution_count": 29,
      "metadata": {
        "colab": {
          "base_uri": "https://localhost:8080/"
        },
        "id": "6Pd0QVRtCXOu",
        "outputId": "4f4b678c-a1e2-4bd8-e54d-ad25b8ddcbbd"
      },
      "outputs": [
        {
          "output_type": "stream",
          "name": "stdout",
          "text": [
            "1\n",
            "2\n",
            "3\n",
            "4\n",
            "5\n"
          ]
        }
      ],
      "source": [
        "for element in my_list:\n",
        "  print(element)"
      ]
    },
    {
      "cell_type": "code",
      "execution_count": 30,
      "metadata": {
        "id": "FoUYTJBfCdYO"
      },
      "outputs": [],
      "source": [
        "my_sum = 0\n",
        "for k in my_list:\n",
        "  #my_sum += k\n",
        "  my_sum = my_sum + k"
      ]
    },
    {
      "cell_type": "code",
      "execution_count": 31,
      "metadata": {
        "colab": {
          "base_uri": "https://localhost:8080/"
        },
        "id": "-Mz2B3WtCw0o",
        "outputId": "296ad1d2-fa13-41f2-d3c5-db71bd66f962"
      },
      "outputs": [
        {
          "output_type": "execute_result",
          "data": {
            "text/plain": [
              "15"
            ]
          },
          "metadata": {},
          "execution_count": 31
        }
      ],
      "source": [
        "my_sum"
      ]
    },
    {
      "cell_type": "code",
      "execution_count": null,
      "metadata": {
        "id": "PoLmOHvE6dLF"
      },
      "outputs": [],
      "source": [
        "# loop over a range\n",
        "for i in range(1, 6):\n",
        "  print(i)"
      ]
    },
    {
      "cell_type": "code",
      "execution_count": null,
      "metadata": {
        "id": "tCconc1R6Us5"
      },
      "outputs": [],
      "source": [
        "# loop over a string\n",
        "my_string = \"Hello!\"\n",
        "for i in my_string:\n",
        "  print(i)"
      ]
    },
    {
      "cell_type": "code",
      "execution_count": null,
      "metadata": {
        "id": "o9V_z7-rEG7f"
      },
      "outputs": [],
      "source": [
        "for k in \"Hello!\":\n",
        "  print(k)"
      ]
    },
    {
      "cell_type": "code",
      "execution_count": null,
      "metadata": {
        "id": "Bn8uxk6AaFR7"
      },
      "outputs": [],
      "source": [
        "# for loop in one line\n",
        "for k in \"Hello!\": print(k)"
      ]
    },
    {
      "cell_type": "code",
      "execution_count": null,
      "metadata": {
        "id": "o8f3_R_Q6b1C"
      },
      "outputs": [],
      "source": [
        "# list comprehension\n",
        "my_list"
      ]
    },
    {
      "cell_type": "code",
      "execution_count": null,
      "metadata": {
        "id": "DqV_81RsFDGV"
      },
      "outputs": [],
      "source": [
        "[i + 2 for i in my_list]"
      ]
    },
    {
      "cell_type": "markdown",
      "metadata": {
        "id": "BBpKY7ONyB_u"
      },
      "source": [
        "## Conditional statements\n",
        "\n",
        "- We can use the ```if``` statement in Python to check if a logical condition is true\n",
        "- Python supports basic logical operations such as:\n",
        "    - Equal: ``` == ```\n",
        "    - Not equal: ``` != ```\n",
        "    - Greater than: ``` > ```\n",
        "    - Smaller than: ``` < ```\n",
        "- After an ```if``` statement we can also use ```elif``` (i.e. else + if) and ```else``` to specify what happens when none of the logical conditions are true"
      ]
    },
    {
      "cell_type": "code",
      "execution_count": null,
      "metadata": {
        "id": "YCuBmlbDyB_v"
      },
      "outputs": [],
      "source": [
        "# basic if statement\n",
        "if 2 > 1:\n",
        "  print(\"Yeeees!\")"
      ]
    },
    {
      "cell_type": "code",
      "execution_count": null,
      "metadata": {
        "id": "zzXFQq6ULtdR"
      },
      "outputs": [],
      "source": [
        "if \"Hello\" == \"Helo\":\n",
        "  print(\"They are the same\")"
      ]
    },
    {
      "cell_type": "code",
      "execution_count": null,
      "metadata": {
        "id": "8osTaACQL2Dj"
      },
      "outputs": [],
      "source": [
        "if \"Hello\" != \"Helo\":\n",
        "  print(\"They are not the same\")"
      ]
    },
    {
      "cell_type": "code",
      "execution_count": null,
      "metadata": {
        "id": "0QGh7SJcMN-d"
      },
      "outputs": [],
      "source": [
        "a = 10\n",
        "b = 20\n",
        "\n",
        "if a < b:\n",
        "  print(\"a is smaller than b\")"
      ]
    },
    {
      "cell_type": "code",
      "execution_count": null,
      "metadata": {
        "id": "80KB5IPkyB_v"
      },
      "outputs": [],
      "source": [
        "# if + else statement\n",
        "if a == b:\n",
        "  print(\"They are equal\")\n",
        "else:\n",
        "  print(\"They are not equal\")"
      ]
    },
    {
      "cell_type": "code",
      "execution_count": null,
      "metadata": {
        "id": "aj7Q6tdCNgSw"
      },
      "outputs": [],
      "source": [
        "if a > b:\n",
        "  print(\"a greater than b\")\n",
        "else:\n",
        "  print(\"a is not greater than b\")"
      ]
    },
    {
      "cell_type": "code",
      "execution_count": null,
      "metadata": {
        "id": "wuw5H0C2yB_v"
      },
      "outputs": [],
      "source": [
        "# if + elif + else statement\n",
        "if a > b:\n",
        "  print(\"a greater than b\")\n",
        "elif a == b:\n",
        "  print(\"a equal to b\")\n",
        "else:\n",
        "  print(\"a not greater and not equal to b\")"
      ]
    },
    {
      "cell_type": "markdown",
      "metadata": {
        "id": "Fk9NXtxXyB_v"
      },
      "source": [
        "## Functions\n",
        "\n",
        "- A function is a re-usable block of code that performs one or multiple operations. Functions usually take inputs and return outputs.\n",
        "- Python has a set of basic pre-built functions. [Here](https://www.w3schools.com/python/python_ref_functions.asp) is a full list but some of the most used are:\n",
        "  - ```print( )```\n",
        "  - ```len( )```\n",
        "  - ```abs( )```, ```max( )```, ```min( )```\n",
        "  - ```range( )``` <br><br>\n",
        "\n",
        "- Additional functions can be brought to Python by importing packages\n",
        "- Functions can also be defined by the user using the ``` def my_function():``` syntax"
      ]
    },
    {
      "cell_type": "code",
      "execution_count": null,
      "metadata": {
        "id": "KvNRE6gFyB_w"
      },
      "outputs": [],
      "source": [
        "# example of pre-built functions\n",
        "print(\"Something!\")"
      ]
    },
    {
      "cell_type": "code",
      "execution_count": null,
      "metadata": {
        "id": "ZH8yNx-ZXx0r"
      },
      "outputs": [],
      "source": [
        "len([1,2,3,4])"
      ]
    },
    {
      "cell_type": "code",
      "execution_count": null,
      "metadata": {
        "id": "leymkjY1X520"
      },
      "outputs": [],
      "source": [
        "len(\"Something!\")"
      ]
    },
    {
      "cell_type": "code",
      "execution_count": null,
      "metadata": {
        "id": "l0xT3n9hYhBb"
      },
      "outputs": [],
      "source": [
        "len()"
      ]
    },
    {
      "cell_type": "code",
      "execution_count": null,
      "metadata": {
        "id": "HNqtV8asYljc"
      },
      "outputs": [],
      "source": [
        "abs(-10)"
      ]
    },
    {
      "cell_type": "code",
      "execution_count": null,
      "metadata": {
        "id": "UrOOfwiMYpcC"
      },
      "outputs": [],
      "source": [
        "max([10,200,5,300])"
      ]
    },
    {
      "cell_type": "code",
      "execution_count": null,
      "metadata": {
        "id": "6Z4T7-l3yB_w"
      },
      "outputs": [],
      "source": [
        "# functions from objects\n",
        "my_dictionary = {\"bananas\": 10, \"apples\": 20}\n",
        "my_dictionary"
      ]
    },
    {
      "cell_type": "code",
      "execution_count": null,
      "metadata": {
        "id": "AF2hwLhyZ9DI"
      },
      "outputs": [],
      "source": [
        "my_dictionary.keys()"
      ]
    },
    {
      "cell_type": "code",
      "execution_count": null,
      "metadata": {
        "id": "6dUCgOILaJPn"
      },
      "outputs": [],
      "source": [
        "my_dictionary.values()"
      ]
    },
    {
      "cell_type": "code",
      "execution_count": null,
      "metadata": {
        "id": "dgMKSPiUaVPJ"
      },
      "outputs": [],
      "source": [
        "my_string = \"HELLO!\"\n",
        "my_string"
      ]
    },
    {
      "cell_type": "code",
      "execution_count": null,
      "metadata": {
        "id": "pSqKRJ_4aYJS"
      },
      "outputs": [],
      "source": [
        "my_string.lower()"
      ]
    },
    {
      "cell_type": "code",
      "execution_count": null,
      "metadata": {
        "id": "EysAuDzqaecT"
      },
      "outputs": [],
      "source": [
        "my_string = \"Hello world !\"\n",
        "my_string.split()"
      ]
    },
    {
      "cell_type": "code",
      "execution_count": null,
      "metadata": {
        "id": "dlwmaEeKyB_w"
      },
      "outputs": [],
      "source": [
        "# define my own function\n",
        "def my_function(x):\n",
        "  result = x*2\n",
        "  return result"
      ]
    },
    {
      "cell_type": "code",
      "execution_count": null,
      "metadata": {
        "id": "AnR-EbKKfm5L"
      },
      "outputs": [],
      "source": [
        "my_function(10)"
      ]
    }
  ],
  "metadata": {
    "colab": {
      "provenance": []
    },
    "kernelspec": {
      "display_name": "Python 3",
      "name": "python3"
    },
    "language_info": {
      "codemirror_mode": {
        "name": "ipython",
        "version": 3
      },
      "file_extension": ".py",
      "mimetype": "text/x-python",
      "name": "python",
      "nbconvert_exporter": "python",
      "pygments_lexer": "ipython3",
      "version": "3.10.2"
    }
  },
  "nbformat": 4,
  "nbformat_minor": 0
}